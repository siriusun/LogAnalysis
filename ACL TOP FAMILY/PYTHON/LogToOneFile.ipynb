{
 "metadata": {
  "language_info": {
   "codemirror_mode": {
    "name": "ipython",
    "version": 3
   },
   "file_extension": ".py",
   "mimetype": "text/x-python",
   "name": "python",
   "nbconvert_exporter": "python",
   "pygments_lexer": "ipython3",
   "version": "3.8.3-final"
  },
  "orig_nbformat": 2,
  "kernelspec": {
   "name": "python3",
   "display_name": "Python 3"
  }
 },
 "nbformat": 4,
 "nbformat_minor": 2,
 "cells": [
  {
   "cell_type": "code",
   "execution_count": 1,
   "metadata": {},
   "outputs": [],
   "source": [
    "import pandas as pd\n",
    "import numpy as np\n",
    "import os\n",
    "import re"
   ]
  },
  {
   "cell_type": "code",
   "execution_count": 1,
   "metadata": {},
   "outputs": [
    {
     "output_type": "execute_result",
     "data": {
      "text/plain": [
       "'\\ndef replace_desp(desp):\\n    desp = re.sub(\" [RD][A-F][^A-Z]\",\" <Rack>\",desp,count=0,flags=0)\\n    desp = re.sub(\" [DRS]\\\\d{1,}\",\" <RackXX>\",desp,count=0,flags=0)\\n    desp = re.sub(\"\\\\d{1,}\",\"<XX>\",desp,count=0,flags=0)\\n    return desp\\n'"
      ]
     },
     "metadata": {},
     "execution_count": 1
    }
   ],
   "source": [
    "def file_filter(filedir,keyword):\n",
    "    allfilelist = os.listdir(filedir)\n",
    "    targetfiles = []\n",
    "    for f in allfilelist:\n",
    "        if keyword in f:\n",
    "            targetfiles.append(f)\n",
    "    return targetfiles\n",
    "\n",
    "def logaddsq(logfullpath, filter_col):\n",
    "    print(logfullpath)\n",
    "    tlog0 = pd.read_csv(logfullpath, sep=\"\\t\",encoding=\"utf-16\",usecols=filter_col)\n",
    "    tlog1 = pd.read_csv(logfullpath, sep=\"\\t\",encoding=\"utf-16\",usecols=filter_col)\n",
    "    tlog1.index = tlog1.index + 1\n",
    "    logwithsq = pd.merge(tlog1,tlog0,left_index=True,right_index=True)\n",
    "    return logwithsq\n",
    "\n",
    "#def replace_desp(desp):\n",
    "    #desp = re.sub(\" [RD][A-F][^A-Z]\",\" <Rack>\",desp,count=0,flags=0)\n",
    "    #desp = re.sub(\" [DRS]\\d{1,}\",\" <RackXX>\",desp,count=0,flags=0)\n",
    "    #desp = re.sub(\"\\d{1,}\",\"<XX>\",desp,count=0,flags=0)"
   ]
  },
  {
   "cell_type": "code",
   "execution_count": 3,
   "metadata": {},
   "outputs": [],
   "source": [
    "logpath = r\"D:\\LogAnalysis\\AllWerfenChinaTop\\10月\\GeneralLogs\"\n",
    "colfilter = [\"sCode\",\"eType\",\"dateTime\",\"funcArea\",\"sDescription\"]\n",
    "loglist = file_filter(logpath,\".txt\")"
   ]
  },
  {
   "cell_type": "code",
   "execution_count": 4,
   "metadata": {},
   "outputs": [
    {
     "output_type": "stream",
     "name": "stdout",
     "text": [
      "D:\\LogAnalysis\\AllWerfenChinaTop\\10月\\GeneralLogs\\20040556.txt\n"
     ]
    }
   ],
   "source": [
    "logtemp = logaddsq((logpath + \"\\\\\" + loglist[0]),colfilter)\n",
    "logtemp = logtemp.dropna(axis=0,how=\"any\")\n",
    "logtemp = logtemp[((logtemp.eType_x == \"ERROR\") | (logtemp.eType_x == \"INFORMATION\")) & ((logtemp.funcArea_x == \"Analyzer\") | (logtemp.funcArea_x == \"Materials\"))]\n",
    "logtemp[\"TopSn\"] = loglist[0][:-4]\n",
    "logonefile = logtemp"
   ]
  },
  {
   "cell_type": "code",
   "execution_count": 5,
   "metadata": {
    "tags": []
   },
   "outputs": [
    {
     "output_type": "stream",
     "name": "stdout",
     "text": [
      "Starting load file :1\n",
      "D:\\LogAnalysis\\AllWerfenChinaTop\\10月\\GeneralLogs\\20040576.txt\n",
      "Starting load file :2\n",
      "D:\\LogAnalysis\\AllWerfenChinaTop\\10月\\GeneralLogs\\20040579.txt\n",
      "Starting load file :3\n",
      "D:\\LogAnalysis\\AllWerfenChinaTop\\10月\\GeneralLogs\\20050600.txt\n"
     ]
    }
   ],
   "source": [
    "for i in range(1,len(loglist)):\n",
    "    print(\"Starting load file :{}\".format(i))\n",
    "    logtemp = logaddsq((logpath + \"\\\\\" + loglist[i]),colfilter)\n",
    "    logtemp = logtemp.dropna(axis=0,how=\"any\")\n",
    "    logtemp = logtemp[((logtemp.eType_x == \"ERROR\") | (logtemp.eType_x == \"INFORMATION\")) & ((logtemp.funcArea_x == \"Analyzer\") | (logtemp.funcArea_x == \"Materials\"))]\n",
    "    logtemp[\"TopSn\"] = loglist[i][:-4]\n",
    "    logonefile = logonefile.append(logtemp,colfilter)"
   ]
  },
  {
   "cell_type": "code",
   "execution_count": 6,
   "metadata": {},
   "outputs": [],
   "source": [
    "logonefile = logonefile.rename(columns={\"sCode_x\":\"sCode\",\"eType_x\":\"eType\",\"dateTime_x\":\"dateTime\",\"funcArea_x\":\"funcArea\",\"sDescription_x\":\"sDescription\",\"sCode_y\":\"sCodeSQ\",\"eType_y\":\"eTypeSQ\",\"dateTime_y\":\"dateTimeSQ\",\"funcArea_y\":\"funcAreaSQ\",\"sDescription_y\":\"sDescriptionSQ\"})"
   ]
  },
  {
   "cell_type": "code",
   "execution_count": 7,
   "metadata": {},
   "outputs": [],
   "source": [
    "logonefile[\"Timediff\"] = (pd.to_datetime(logonefile[\"dateTimeSQ\"]) - pd.to_datetime(logonefile[\"dateTime\"]))/pd.Timedelta(1,\"S\")"
   ]
  },
  {
   "cell_type": "code",
   "execution_count": 8,
   "metadata": {},
   "outputs": [],
   "source": [
    "logonefile[\"Timediff<10s\"] = logonefile[\"Timediff\"].apply(lambda x: \"Y\" if x < 10 else \"N\")"
   ]
  },
  {
   "cell_type": "code",
   "execution_count": 9,
   "metadata": {},
   "outputs": [],
   "source": [
    "logonefile[\"sDescriptionSQ\"] = logonefile[\"sDescriptionSQ\"].replace(\".*(忙|Busy).*(Emer|紧急).*\",\"Analyzer Status changed from Busy to Emergency stop.\",regex=True)\n",
    "#logonefile[\"sDescription\"] = logonefile[\"sDescription\"].apply(replace_desp)"
   ]
  },
  {
   "cell_type": "code",
   "execution_count": 10,
   "metadata": {},
   "outputs": [],
   "source": [
    "logonefile.drop([\"eTypeSQ\",\"funcAreaSQ\"],axis = 1, inplace = True)\n",
    "logonefile.insert(0,\"TopSn\",logonefile.pop(\"TopSn\"))\n",
    "logonefile.to_csv((logpath + \"\\\\one.csv\"))"
   ]
  },
  {
   "cell_type": "code",
   "execution_count": 11,
   "metadata": {},
   "outputs": [
    {
     "output_type": "stream",
     "name": "stdout",
     "text": [
      "Done\n"
     ]
    }
   ],
   "source": [
    "print(\"Done\")"
   ]
  }
 ]
}