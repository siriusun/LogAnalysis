{
 "metadata": {
  "language_info": {
   "codemirror_mode": {
    "name": "ipython",
    "version": 3
   },
   "file_extension": ".py",
   "mimetype": "text/x-python",
   "name": "python",
   "nbconvert_exporter": "python",
   "pygments_lexer": "ipython3",
   "version": "3.8.5-final"
  },
  "orig_nbformat": 2,
  "kernelspec": {
   "name": "python3",
   "display_name": "Python 3"
  }
 },
 "nbformat": 4,
 "nbformat_minor": 2,
 "cells": [
  {
   "cell_type": "code",
   "execution_count": null,
   "metadata": {},
   "outputs": [],
   "source": [
    "import pandas as pd\n",
    "import os"
   ]
  },
  {
   "cell_type": "code",
   "execution_count": null,
   "metadata": {},
   "outputs": [],
   "source": [
    "def file_filter(filedir,keyword):\n",
    "    allfilelist = os.listdir(filedir)\n",
    "    targetfiles = []\n",
    "    for f in allfilelist:\n",
    "        if keyword in f:\n",
    "            targetfiles.append(f)\n",
    "    return targetfiles\n",
    "\n",
    "\n",
    "def replace_desp(desp):\n",
    "    for (cn,en) in replace_dic.items():\n",
    "        desp = desp.replace(cn,en)\n",
    "    return desp\n",
    "\n",
    "\n",
    "def logaddsq(logfullpath, filter_col):\n",
    "    print(logfullpath)\n",
    "    tlog0 = pd.read_csv(logfullpath, sep=\"\\t\",encoding=\"utf-16\",usecols=filter_col)\n",
    "    tlog0[\"sDescription\"] = tlog0[\"sDescription\"].apply(replace_desp)\n",
    "    tlog1 = pd.read_csv(logfullpath, sep=\"\\t\",encoding=\"utf-16\",usecols=filter_col)\n",
    "    tlog1[\"sDescription\"] = tlog1[\"sDescription\"].apply(replace_desp)\n",
    "    tlog1.index = tlog1.index + 1\n",
    "    logwithsq = pd.merge(tlog1,tlog0,left_index=True,right_index=True)\n",
    "    return logwithsq"
   ]
  },
  {
   "cell_type": "code",
   "execution_count": null,
   "metadata": {},
   "outputs": [],
   "source": [
    "logpath = r\"D:\\LogAnalysis\\AllWerfenChinaTop\\202010\\GeneralLogs\"\n",
    "colfilter = [\"sCode\",\"eType\",\"dateTime\",\"funcArea\",\"sDescription\"]\n",
    "loglist = file_filter(logpath,\".txt\")\n",
    "replace_dic = {\n",
    "    \"开机\":\"Power up\",\n",
    "    \"初始化\":\"Initializing\",\n",
    "    \"维护\":\"Maintenance\",\n",
    "    \"错误\":\"Error\",\n",
    "    \"紧急停止\":\"Emergency stop\",\n",
    "    \"忙\":\"Busy\",\n",
    "    \"诊断\":\"Diagnostics\",\n",
    "    \"准备\":\"Ready\",\n",
    "    \"受控停机\":\"Controlled stop\",\n",
    "    \"未连接\":\"Not connected\",\n",
    "    \"温度调整\":\"Adjusting thermal\",\n",
    "    \"分析仪状态从\":\"Analyzer Status changed from\",\n",
    "    \"变为\":\"to\"}"
   ]
  },
  {
   "cell_type": "code",
   "execution_count": null,
   "metadata": {},
   "outputs": [],
   "source": [
    "logtemp = logaddsq((logpath + \"\\\\\" + loglist[0]),colfilter)\n",
    "logtemp = logtemp.dropna(axis=0,how=\"any\")\n",
    "logtemp = logtemp[((logtemp.eType_x == \"ERROR\") | (logtemp.eType_x == \"INFORMATION\")) & ((logtemp.funcArea_x == \"Analyzer\") | (logtemp.funcArea_x == \"Materials\"))]\n",
    "logtemp[\"TopSn\"] = loglist[0][:-4]\n",
    "logonefile = logtemp"
   ]
  },
  {
   "cell_type": "code",
   "execution_count": null,
   "metadata": {
    "tags": []
   },
   "outputs": [],
   "source": [
    "for i in range(1,len(loglist)):\n",
    "    print(\"Starting load file :{}\".format(i))\n",
    "    logtemp = logaddsq((logpath + \"\\\\\" + loglist[i]),colfilter)\n",
    "    logtemp = logtemp.dropna(axis=0,how=\"any\")\n",
    "    logtemp = logtemp[((logtemp.eType_x == \"ERROR\") | (logtemp.eType_x == \"INFORMATION\")) & ((logtemp.funcArea_x == \"Analyzer\") | (logtemp.funcArea_x == \"Materials\"))]\n",
    "    logtemp[\"TopSn\"] = loglist[i][:-4]\n",
    "    logonefile = logonefile.append(logtemp,colfilter)"
   ]
  },
  {
   "cell_type": "code",
   "execution_count": null,
   "metadata": {},
   "outputs": [],
   "source": [
    "logonefile = logonefile.rename(columns={\"sCode_x\":\"sCode\",\"eType_x\":\"eType\",\"dateTime_x\":\"dateTime\",\"funcArea_x\":\"funcArea\",\"sDescription_x\":\"sDescription\",\"sCode_y\":\"sCodeSQ\",\"eType_y\":\"eTypeSQ\",\"dateTime_y\":\"dateTimeSQ\",\"funcArea_y\":\"funcAreaSQ\",\"sDescription_y\":\"sDescriptionSQ\"})"
   ]
  },
  {
   "cell_type": "code",
   "execution_count": null,
   "metadata": {},
   "outputs": [],
   "source": [
    "logonefile[\"Timediff\"] = (pd.to_datetime(logonefile[\"dateTimeSQ\"]) - pd.to_datetime(logonefile[\"dateTime\"]))/pd.Timedelta(1,\"S\")"
   ]
  },
  {
   "cell_type": "code",
   "execution_count": null,
   "metadata": {},
   "outputs": [],
   "source": [
    "logonefile[\"Timediff<10s\"] = logonefile[\"Timediff\"].apply(lambda x: \"Y\" if x < 10 else \"N\")"
   ]
  },
  {
   "cell_type": "code",
   "execution_count": null,
   "metadata": {},
   "outputs": [],
   "source": [
    "logonefile.drop([\"eTypeSQ\",\"funcAreaSQ\"],axis = 1, inplace = True)\n",
    "logonefile.insert(0,\"TopSn\",logonefile.pop(\"TopSn\"))\n",
    "logonefile.to_csv((logpath + \"\\\\one.csv\"))"
   ]
  },
  {
   "cell_type": "code",
   "execution_count": null,
   "metadata": {},
   "outputs": [],
   "source": [
    "print(\"Done\")"
   ]
  }
 ]
}