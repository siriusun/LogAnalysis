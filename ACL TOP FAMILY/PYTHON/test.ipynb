{
 "metadata": {
  "language_info": {
   "codemirror_mode": {
    "name": "ipython",
    "version": 3
   },
   "file_extension": ".py",
   "mimetype": "text/x-python",
   "name": "python",
   "nbconvert_exporter": "python",
   "pygments_lexer": "ipython3",
   "version": "3.8.8-final"
  },
  "orig_nbformat": 2,
  "kernelspec": {
   "name": "python3",
   "display_name": "Python 3.8.8 64-bit (conda)",
   "metadata": {
    "interpreter": {
     "hash": "582f980545642280f41008d6d98f5a67b54290cbb47f93e3377a3496ed94f17e"
    }
   }
  }
 },
 "nbformat": 4,
 "nbformat_minor": 2,
 "cells": [
  {
   "cell_type": "code",
   "execution_count": 59,
   "metadata": {},
   "outputs": [],
   "source": [
    "import pandas as pd\n",
    "import copy as cp"
   ]
  },
  {
   "cell_type": "code",
   "execution_count": 60,
   "metadata": {},
   "outputs": [],
   "source": [
    "df1 = pd.read_csv(r\"D:\\Sync_ColorCloud\\LogAnalysis\\AllWerfenChinaTop\\202103\\Data\\GeneralLogs\\YYY.txt\",sep=\"\\t\",encoding=\"utf-16\",usecols=[\"sCode\",\"dateTime\",\"sDescription\"])"
   ]
  },
  {
   "cell_type": "code",
   "execution_count": 61,
   "metadata": {},
   "outputs": [
    {
     "output_type": "execute_result",
     "data": {
      "text/plain": [
       "    sCode                 dateTime  \\\n",
       "0  '03046  2020-06-29 15:26:36.223   \n",
       "1  '03217  2020-06-29 15:27:27.447   \n",
       "2  '03046  2020-06-29 15:27:27.650   \n",
       "3  '03046  2020-06-29 15:55:28.370   \n",
       "4  '03046  2020-06-29 16:01:41.897   \n",
       "5  '03046  2020-06-29 16:01:42.190   \n",
       "6  '03217  2020-06-29 16:02:32.033   \n",
       "7  '03046  2020-06-29 16:02:32.227   \n",
       "8  '04005  2020-06-29 16:15:20.147   \n",
       "\n",
       "                                        sDescription  \n",
       "0  Analyzer Status changed from Ready to Maintena...  \n",
       "1  Automatic maintenance activity Automatic Routi...  \n",
       "2  Analyzer Status changed from Maintenance to Re...  \n",
       "3        Analyzer Status changed from Ready to Busy.  \n",
       "4        Analyzer Status changed from Busy to Ready.  \n",
       "5  Analyzer Status changed from Ready to Maintena...  \n",
       "6  Automatic maintenance activity Automatic Routi...  \n",
       "7  Analyzer Status changed from Maintenance to Re...  \n",
       "8                                     Rack rejected.  "
      ],
      "text/html": "<div>\n<style scoped>\n    .dataframe tbody tr th:only-of-type {\n        vertical-align: middle;\n    }\n\n    .dataframe tbody tr th {\n        vertical-align: top;\n    }\n\n    .dataframe thead th {\n        text-align: right;\n    }\n</style>\n<table border=\"1\" class=\"dataframe\">\n  <thead>\n    <tr style=\"text-align: right;\">\n      <th></th>\n      <th>sCode</th>\n      <th>dateTime</th>\n      <th>sDescription</th>\n    </tr>\n  </thead>\n  <tbody>\n    <tr>\n      <th>0</th>\n      <td>'03046</td>\n      <td>2020-06-29 15:26:36.223</td>\n      <td>Analyzer Status changed from Ready to Maintena...</td>\n    </tr>\n    <tr>\n      <th>1</th>\n      <td>'03217</td>\n      <td>2020-06-29 15:27:27.447</td>\n      <td>Automatic maintenance activity Automatic Routi...</td>\n    </tr>\n    <tr>\n      <th>2</th>\n      <td>'03046</td>\n      <td>2020-06-29 15:27:27.650</td>\n      <td>Analyzer Status changed from Maintenance to Re...</td>\n    </tr>\n    <tr>\n      <th>3</th>\n      <td>'03046</td>\n      <td>2020-06-29 15:55:28.370</td>\n      <td>Analyzer Status changed from Ready to Busy.</td>\n    </tr>\n    <tr>\n      <th>4</th>\n      <td>'03046</td>\n      <td>2020-06-29 16:01:41.897</td>\n      <td>Analyzer Status changed from Busy to Ready.</td>\n    </tr>\n    <tr>\n      <th>5</th>\n      <td>'03046</td>\n      <td>2020-06-29 16:01:42.190</td>\n      <td>Analyzer Status changed from Ready to Maintena...</td>\n    </tr>\n    <tr>\n      <th>6</th>\n      <td>'03217</td>\n      <td>2020-06-29 16:02:32.033</td>\n      <td>Automatic maintenance activity Automatic Routi...</td>\n    </tr>\n    <tr>\n      <th>7</th>\n      <td>'03046</td>\n      <td>2020-06-29 16:02:32.227</td>\n      <td>Analyzer Status changed from Maintenance to Re...</td>\n    </tr>\n    <tr>\n      <th>8</th>\n      <td>'04005</td>\n      <td>2020-06-29 16:15:20.147</td>\n      <td>Rack rejected.</td>\n    </tr>\n  </tbody>\n</table>\n</div>"
     },
     "metadata": {},
     "execution_count": 61
    }
   ],
   "source": [
    "df1"
   ]
  },
  {
   "cell_type": "code",
   "execution_count": 63,
   "metadata": {},
   "outputs": [],
   "source": [
    "df2 = cp.copy(df1)"
   ]
  },
  {
   "cell_type": "code",
   "execution_count": 64,
   "metadata": {},
   "outputs": [
    {
     "output_type": "execute_result",
     "data": {
      "text/plain": [
       "    sCode                 dateTime  \\\n",
       "0  '03046  2020-06-29 15:26:36.223   \n",
       "1  '03217  2020-06-29 15:27:27.447   \n",
       "2  '03046  2020-06-29 15:27:27.650   \n",
       "3  '03046  2020-06-29 15:55:28.370   \n",
       "4  '03046  2020-06-29 16:01:41.897   \n",
       "5  '03046  2020-06-29 16:01:42.190   \n",
       "6  '03217  2020-06-29 16:02:32.033   \n",
       "7  '03046  2020-06-29 16:02:32.227   \n",
       "8  '04005  2020-06-29 16:15:20.147   \n",
       "\n",
       "                                        sDescription  \n",
       "0  Analyzer Status changed from Ready to Maintena...  \n",
       "1  Automatic maintenance activity Automatic Routi...  \n",
       "2  Analyzer Status changed from Maintenance to Re...  \n",
       "3        Analyzer Status changed from Ready to Busy.  \n",
       "4        Analyzer Status changed from Busy to Ready.  \n",
       "5  Analyzer Status changed from Ready to Maintena...  \n",
       "6  Automatic maintenance activity Automatic Routi...  \n",
       "7  Analyzer Status changed from Maintenance to Re...  \n",
       "8                                     Rack rejected.  "
      ],
      "text/html": "<div>\n<style scoped>\n    .dataframe tbody tr th:only-of-type {\n        vertical-align: middle;\n    }\n\n    .dataframe tbody tr th {\n        vertical-align: top;\n    }\n\n    .dataframe thead th {\n        text-align: right;\n    }\n</style>\n<table border=\"1\" class=\"dataframe\">\n  <thead>\n    <tr style=\"text-align: right;\">\n      <th></th>\n      <th>sCode</th>\n      <th>dateTime</th>\n      <th>sDescription</th>\n    </tr>\n  </thead>\n  <tbody>\n    <tr>\n      <th>0</th>\n      <td>'03046</td>\n      <td>2020-06-29 15:26:36.223</td>\n      <td>Analyzer Status changed from Ready to Maintena...</td>\n    </tr>\n    <tr>\n      <th>1</th>\n      <td>'03217</td>\n      <td>2020-06-29 15:27:27.447</td>\n      <td>Automatic maintenance activity Automatic Routi...</td>\n    </tr>\n    <tr>\n      <th>2</th>\n      <td>'03046</td>\n      <td>2020-06-29 15:27:27.650</td>\n      <td>Analyzer Status changed from Maintenance to Re...</td>\n    </tr>\n    <tr>\n      <th>3</th>\n      <td>'03046</td>\n      <td>2020-06-29 15:55:28.370</td>\n      <td>Analyzer Status changed from Ready to Busy.</td>\n    </tr>\n    <tr>\n      <th>4</th>\n      <td>'03046</td>\n      <td>2020-06-29 16:01:41.897</td>\n      <td>Analyzer Status changed from Busy to Ready.</td>\n    </tr>\n    <tr>\n      <th>5</th>\n      <td>'03046</td>\n      <td>2020-06-29 16:01:42.190</td>\n      <td>Analyzer Status changed from Ready to Maintena...</td>\n    </tr>\n    <tr>\n      <th>6</th>\n      <td>'03217</td>\n      <td>2020-06-29 16:02:32.033</td>\n      <td>Automatic maintenance activity Automatic Routi...</td>\n    </tr>\n    <tr>\n      <th>7</th>\n      <td>'03046</td>\n      <td>2020-06-29 16:02:32.227</td>\n      <td>Analyzer Status changed from Maintenance to Re...</td>\n    </tr>\n    <tr>\n      <th>8</th>\n      <td>'04005</td>\n      <td>2020-06-29 16:15:20.147</td>\n      <td>Rack rejected.</td>\n    </tr>\n  </tbody>\n</table>\n</div>"
     },
     "metadata": {},
     "execution_count": 64
    }
   ],
   "source": [
    "df2"
   ]
  },
  {
   "cell_type": "code",
   "execution_count": 65,
   "metadata": {},
   "outputs": [],
   "source": [
    "df2.index = df2.index + 1"
   ]
  },
  {
   "cell_type": "code",
   "execution_count": 66,
   "metadata": {},
   "outputs": [
    {
     "output_type": "execute_result",
     "data": {
      "text/plain": [
       "    sCode                 dateTime  \\\n",
       "1  '03046  2020-06-29 15:26:36.223   \n",
       "2  '03217  2020-06-29 15:27:27.447   \n",
       "3  '03046  2020-06-29 15:27:27.650   \n",
       "4  '03046  2020-06-29 15:55:28.370   \n",
       "5  '03046  2020-06-29 16:01:41.897   \n",
       "6  '03046  2020-06-29 16:01:42.190   \n",
       "7  '03217  2020-06-29 16:02:32.033   \n",
       "8  '03046  2020-06-29 16:02:32.227   \n",
       "9  '04005  2020-06-29 16:15:20.147   \n",
       "\n",
       "                                        sDescription  \n",
       "1  Analyzer Status changed from Ready to Maintena...  \n",
       "2  Automatic maintenance activity Automatic Routi...  \n",
       "3  Analyzer Status changed from Maintenance to Re...  \n",
       "4        Analyzer Status changed from Ready to Busy.  \n",
       "5        Analyzer Status changed from Busy to Ready.  \n",
       "6  Analyzer Status changed from Ready to Maintena...  \n",
       "7  Automatic maintenance activity Automatic Routi...  \n",
       "8  Analyzer Status changed from Maintenance to Re...  \n",
       "9                                     Rack rejected.  "
      ],
      "text/html": "<div>\n<style scoped>\n    .dataframe tbody tr th:only-of-type {\n        vertical-align: middle;\n    }\n\n    .dataframe tbody tr th {\n        vertical-align: top;\n    }\n\n    .dataframe thead th {\n        text-align: right;\n    }\n</style>\n<table border=\"1\" class=\"dataframe\">\n  <thead>\n    <tr style=\"text-align: right;\">\n      <th></th>\n      <th>sCode</th>\n      <th>dateTime</th>\n      <th>sDescription</th>\n    </tr>\n  </thead>\n  <tbody>\n    <tr>\n      <th>1</th>\n      <td>'03046</td>\n      <td>2020-06-29 15:26:36.223</td>\n      <td>Analyzer Status changed from Ready to Maintena...</td>\n    </tr>\n    <tr>\n      <th>2</th>\n      <td>'03217</td>\n      <td>2020-06-29 15:27:27.447</td>\n      <td>Automatic maintenance activity Automatic Routi...</td>\n    </tr>\n    <tr>\n      <th>3</th>\n      <td>'03046</td>\n      <td>2020-06-29 15:27:27.650</td>\n      <td>Analyzer Status changed from Maintenance to Re...</td>\n    </tr>\n    <tr>\n      <th>4</th>\n      <td>'03046</td>\n      <td>2020-06-29 15:55:28.370</td>\n      <td>Analyzer Status changed from Ready to Busy.</td>\n    </tr>\n    <tr>\n      <th>5</th>\n      <td>'03046</td>\n      <td>2020-06-29 16:01:41.897</td>\n      <td>Analyzer Status changed from Busy to Ready.</td>\n    </tr>\n    <tr>\n      <th>6</th>\n      <td>'03046</td>\n      <td>2020-06-29 16:01:42.190</td>\n      <td>Analyzer Status changed from Ready to Maintena...</td>\n    </tr>\n    <tr>\n      <th>7</th>\n      <td>'03217</td>\n      <td>2020-06-29 16:02:32.033</td>\n      <td>Automatic maintenance activity Automatic Routi...</td>\n    </tr>\n    <tr>\n      <th>8</th>\n      <td>'03046</td>\n      <td>2020-06-29 16:02:32.227</td>\n      <td>Analyzer Status changed from Maintenance to Re...</td>\n    </tr>\n    <tr>\n      <th>9</th>\n      <td>'04005</td>\n      <td>2020-06-29 16:15:20.147</td>\n      <td>Rack rejected.</td>\n    </tr>\n  </tbody>\n</table>\n</div>"
     },
     "metadata": {},
     "execution_count": 66
    }
   ],
   "source": [
    "df2"
   ]
  },
  {
   "cell_type": "code",
   "execution_count": 68,
   "metadata": {},
   "outputs": [],
   "source": [
    "df = pd.merge(df2,df1,left_index=True,right_index=True,how =\"inner\")"
   ]
  },
  {
   "cell_type": "code",
   "execution_count": 70,
   "metadata": {},
   "outputs": [
    {
     "output_type": "execute_result",
     "data": {
      "text/plain": [
       "  sCode_x               dateTime_x  \\\n",
       "1  '03046  2020-06-29 15:26:36.223   \n",
       "2  '03217  2020-06-29 15:27:27.447   \n",
       "3  '03046  2020-06-29 15:27:27.650   \n",
       "4  '03046  2020-06-29 15:55:28.370   \n",
       "5  '03046  2020-06-29 16:01:41.897   \n",
       "6  '03046  2020-06-29 16:01:42.190   \n",
       "7  '03217  2020-06-29 16:02:32.033   \n",
       "8  '03046  2020-06-29 16:02:32.227   \n",
       "\n",
       "                                      sDescription_x sCode_y  \\\n",
       "1  Analyzer Status changed from Ready to Maintena...  '03217   \n",
       "2  Automatic maintenance activity Automatic Routi...  '03046   \n",
       "3  Analyzer Status changed from Maintenance to Re...  '03046   \n",
       "4        Analyzer Status changed from Ready to Busy.  '03046   \n",
       "5        Analyzer Status changed from Busy to Ready.  '03046   \n",
       "6  Analyzer Status changed from Ready to Maintena...  '03217   \n",
       "7  Automatic maintenance activity Automatic Routi...  '03046   \n",
       "8  Analyzer Status changed from Maintenance to Re...  '04005   \n",
       "\n",
       "                dateTime_y                                     sDescription_y  \n",
       "1  2020-06-29 15:27:27.447  Automatic maintenance activity Automatic Routi...  \n",
       "2  2020-06-29 15:27:27.650  Analyzer Status changed from Maintenance to Re...  \n",
       "3  2020-06-29 15:55:28.370        Analyzer Status changed from Ready to Busy.  \n",
       "4  2020-06-29 16:01:41.897        Analyzer Status changed from Busy to Ready.  \n",
       "5  2020-06-29 16:01:42.190  Analyzer Status changed from Ready to Maintena...  \n",
       "6  2020-06-29 16:02:32.033  Automatic maintenance activity Automatic Routi...  \n",
       "7  2020-06-29 16:02:32.227  Analyzer Status changed from Maintenance to Re...  \n",
       "8  2020-06-29 16:15:20.147                                     Rack rejected.  "
      ],
      "text/html": "<div>\n<style scoped>\n    .dataframe tbody tr th:only-of-type {\n        vertical-align: middle;\n    }\n\n    .dataframe tbody tr th {\n        vertical-align: top;\n    }\n\n    .dataframe thead th {\n        text-align: right;\n    }\n</style>\n<table border=\"1\" class=\"dataframe\">\n  <thead>\n    <tr style=\"text-align: right;\">\n      <th></th>\n      <th>sCode_x</th>\n      <th>dateTime_x</th>\n      <th>sDescription_x</th>\n      <th>sCode_y</th>\n      <th>dateTime_y</th>\n      <th>sDescription_y</th>\n    </tr>\n  </thead>\n  <tbody>\n    <tr>\n      <th>1</th>\n      <td>'03046</td>\n      <td>2020-06-29 15:26:36.223</td>\n      <td>Analyzer Status changed from Ready to Maintena...</td>\n      <td>'03217</td>\n      <td>2020-06-29 15:27:27.447</td>\n      <td>Automatic maintenance activity Automatic Routi...</td>\n    </tr>\n    <tr>\n      <th>2</th>\n      <td>'03217</td>\n      <td>2020-06-29 15:27:27.447</td>\n      <td>Automatic maintenance activity Automatic Routi...</td>\n      <td>'03046</td>\n      <td>2020-06-29 15:27:27.650</td>\n      <td>Analyzer Status changed from Maintenance to Re...</td>\n    </tr>\n    <tr>\n      <th>3</th>\n      <td>'03046</td>\n      <td>2020-06-29 15:27:27.650</td>\n      <td>Analyzer Status changed from Maintenance to Re...</td>\n      <td>'03046</td>\n      <td>2020-06-29 15:55:28.370</td>\n      <td>Analyzer Status changed from Ready to Busy.</td>\n    </tr>\n    <tr>\n      <th>4</th>\n      <td>'03046</td>\n      <td>2020-06-29 15:55:28.370</td>\n      <td>Analyzer Status changed from Ready to Busy.</td>\n      <td>'03046</td>\n      <td>2020-06-29 16:01:41.897</td>\n      <td>Analyzer Status changed from Busy to Ready.</td>\n    </tr>\n    <tr>\n      <th>5</th>\n      <td>'03046</td>\n      <td>2020-06-29 16:01:41.897</td>\n      <td>Analyzer Status changed from Busy to Ready.</td>\n      <td>'03046</td>\n      <td>2020-06-29 16:01:42.190</td>\n      <td>Analyzer Status changed from Ready to Maintena...</td>\n    </tr>\n    <tr>\n      <th>6</th>\n      <td>'03046</td>\n      <td>2020-06-29 16:01:42.190</td>\n      <td>Analyzer Status changed from Ready to Maintena...</td>\n      <td>'03217</td>\n      <td>2020-06-29 16:02:32.033</td>\n      <td>Automatic maintenance activity Automatic Routi...</td>\n    </tr>\n    <tr>\n      <th>7</th>\n      <td>'03217</td>\n      <td>2020-06-29 16:02:32.033</td>\n      <td>Automatic maintenance activity Automatic Routi...</td>\n      <td>'03046</td>\n      <td>2020-06-29 16:02:32.227</td>\n      <td>Analyzer Status changed from Maintenance to Re...</td>\n    </tr>\n    <tr>\n      <th>8</th>\n      <td>'03046</td>\n      <td>2020-06-29 16:02:32.227</td>\n      <td>Analyzer Status changed from Maintenance to Re...</td>\n      <td>'04005</td>\n      <td>2020-06-29 16:15:20.147</td>\n      <td>Rack rejected.</td>\n    </tr>\n  </tbody>\n</table>\n</div>"
     },
     "metadata": {},
     "execution_count": 70
    }
   ],
   "source": [
    "df"
   ]
  },
  {
   "cell_type": "code",
   "execution_count": null,
   "metadata": {},
   "outputs": [],
   "source": []
  }
 ]
}