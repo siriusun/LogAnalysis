{
 "cells": [
  {
   "cell_type": "markdown",
   "metadata": {},
   "source": [
    "此脚本用于Grep命令（grep -aiE \"'03046.*2022-09-\" *.txt -B1 | grep -aiE \"^T.*2022-\" > status.csv）之后"
   ]
  },
  {
   "cell_type": "markdown",
   "metadata": {},
   "source": [
    "第一步将报警信息附加到状态变化信息之后"
   ]
  },
  {
   "cell_type": "markdown",
   "metadata": {},
   "source": [
    "第二步插值，在状态变化之前3s插入上个变化的信息，如果两个状态变化跨越自然小时，则在整点前后各插入上个状态变化的信息"
   ]
  },
  {
   "cell_type": "code",
   "execution_count": null,
   "metadata": {},
   "outputs": [],
   "source": [
    "import pandas as pd\n",
    "#import os\n",
    "#import datetime\n",
    "#import tkinter.filedialog as tk\n",
    "#import tkinter"
   ]
  },
  {
   "cell_type": "code",
   "execution_count": null,
   "metadata": {},
   "outputs": [],
   "source": [
    "logpath = r\"D:\\Sync_ColorCloud\\LogAnalysis\\AllWerfenChinaTop\\downTimeByError\\Data\\GeneralLogs\\status.csv\""
   ]
  },
  {
   "cell_type": "code",
   "execution_count": null,
   "metadata": {},
   "outputs": [],
   "source": [
    "df1 = pd.read_csv(logpath, sep=\"\\t\", encoding=\"utf_8_sig\", header=None, parse_dates=[2])\n",
    "df1.head()"
   ]
  },
  {
   "cell_type": "code",
   "execution_count": null,
   "metadata": {},
   "outputs": [],
   "source": [
    "df1.drop([1,3,4,6,7,8,9],inplace=True,axis=1)\n",
    "df1.rename(columns={0 : \"rowInfo\", 2 : \"dt\", 5 : \"statusChange\"},inplace=True)\n",
    "df1.head()"
   ]
  },
  {
   "cell_type": "code",
   "execution_count": null,
   "metadata": {},
   "outputs": [],
   "source": [
    "df1.dropna(inplace=True)"
   ]
  },
  {
   "cell_type": "code",
   "execution_count": null,
   "metadata": {},
   "outputs": [],
   "source": [
    "def sn_extract(strs):\n",
    "    sn = strs.split(\".\")[0]\n",
    "    return sn"
   ]
  },
  {
   "cell_type": "code",
   "execution_count": null,
   "metadata": {},
   "outputs": [],
   "source": [
    "df1.loc[:, \"sn\"] = df1.rowInfo.map(sn_extract)\n",
    "df1.loc[:, \"code\"] = df1.rowInfo.str.slice(-6,)\n",
    "df1.drop(\"rowInfo\", inplace=True, axis=1)\n",
    "df1.head()"
   ]
  },
  {
   "cell_type": "code",
   "execution_count": null,
   "metadata": {},
   "outputs": [],
   "source": [
    "df2 = df1.copy()\n",
    "df2.index += 1"
   ]
  },
  {
   "cell_type": "code",
   "execution_count": null,
   "metadata": {},
   "outputs": [],
   "source": [
    "df1 = pd.merge(df1, df2, left_index=True, right_index=True, suffixes=[\"\",\"_pre\"])\n",
    "df1 = df1.loc[(df1.sn == df1.sn_pre) & (df1.code == \"'03046\"), :]\n",
    "df1.drop([\"statusChange_pre\", \"sn_pre\", \"code\"], inplace=True, axis=1)\n",
    "df1.reset_index(inplace=True, drop=True)\n",
    "df1.head()"
   ]
  },
  {
   "cell_type": "code",
   "execution_count": null,
   "metadata": {},
   "outputs": [],
   "source": [
    "df2 = df1.copy()\n",
    "df2.drop([\"statusChange\", \"dt_pre\", \"code_pre\"], inplace=True, axis=1)\n",
    "df1.index += 1\n",
    "df1.head()"
   ]
  },
  {
   "cell_type": "code",
   "execution_count": null,
   "metadata": {},
   "outputs": [],
   "source": [
    "df1 = pd.merge(df1, df2, left_index=True, right_index=True,suffixes=[\"\", \"_next\"])\n",
    "df1.head()"
   ]
  },
  {
   "cell_type": "code",
   "execution_count": null,
   "metadata": {},
   "outputs": [],
   "source": [
    "df1 = df1.loc[df1.sn == df1.sn_next, :]\n",
    "df1.drop(\"sn_next\", inplace=True, axis=True)\n",
    "df1.head()"
   ]
  },
  {
   "cell_type": "code",
   "execution_count": null,
   "metadata": {},
   "outputs": [],
   "source": [
    "df1.reset_index(inplace=True, drop=True)"
   ]
  },
  {
   "cell_type": "code",
   "execution_count": null,
   "metadata": {},
   "outputs": [],
   "source": [
    "replace_dic = {\n",
    "    \"开机\": \"Power up\",\n",
    "    \"初始化\": \"Initializing\",\n",
    "    \"维护\": \"Maintenance\",\n",
    "    \"错误\": \"Error\",\n",
    "    \"紧急停止\": \"Emergency stop\",\n",
    "    \"忙\": \"Busy\",\n",
    "    \"诊断\": \"Diagnostics\",\n",
    "    \"准备\": \"Ready\",\n",
    "    \"受控停机\": \"Controlled stop\",\n",
    "    \"未连接\": \"Not connected\",\n",
    "    \"温度调整\": \"Adjusting thermal\",\n",
    "    \"分析仪状态从\": \"Analyzer Status changed from\",\n",
    "    \"变为\": \"to\"\n",
    "}\n",
    "\n",
    "def replace_desp(desp):\n",
    "    if \"分析仪状态从\" not in desp:\n",
    "        return desp\n",
    "    for (cn, en) in replace_dic.items():\n",
    "        desp = desp.replace(cn, en)\n",
    "    return desp"
   ]
  },
  {
   "cell_type": "code",
   "execution_count": null,
   "metadata": {},
   "outputs": [],
   "source": [
    "df1[\"statusChange\"] = df1[\"statusChange\"].map(replace_desp)\n",
    "df1.head()"
   ]
  },
  {
   "cell_type": "code",
   "execution_count": null,
   "metadata": {},
   "outputs": [],
   "source": [
    "df1 = df1.loc[:, [\"sn\", \"dt\", \"statusChange\", \"dt_next\", \"dt_pre\", \"code_pre\"]]\n",
    "df1.head()"
   ]
  },
  {
   "cell_type": "code",
   "execution_count": null,
   "metadata": {},
   "outputs": [],
   "source": [
    "l = []"
   ]
  },
  {
   "cell_type": "code",
   "execution_count": null,
   "metadata": {},
   "outputs": [],
   "source": [
    "def insert_rows(df_row):\n",
    "    global l\n",
    "    if df_row[\"dt_next\"] - df_row[\"dt\"] < pd.Timedelta(3,\"s\"):\n",
    "        l.append(df_row.to_dict())\n",
    "    elif df_row.dt_next.strftime(\"%Y%m%d%H\") == df_row[\"dt\"].strftime(\"%Y%m%d%H\"):\n",
    "        l.append(df_row.to_dict())\n",
    "        l.append({\"sn\" : df_row.sn, \"dt\" : df_row.dt_next - pd.Timedelta(2,\"s\"), \"statusChange\" : df_row.statusChange, \"dt_next\" : df_row.dt_next, \"dt_pre\" : df_row.dt_pre, \"code_pre\" : df_row.code_pre})\n",
    "    else:\n",
    "        l.append(df_row.to_dict())\n",
    "        dt_tuple = df_row[\"dt\"].timetuple()\n",
    "        dt_next_tuple = df_row.dt_next.timetuple()\n",
    "        dt_hourEnd = pd.Timestamp(dt_tuple.tm_year,dt_tuple.tm_mon,dt_tuple.tm_mday,dt_tuple.tm_hour) + pd.Timedelta('0 days 00:59:59.9')\n",
    "        dt_next_hourStart = pd.Timestamp(dt_next_tuple.tm_year,dt_next_tuple.tm_mon,dt_next_tuple.tm_mday,dt_next_tuple.tm_hour)\n",
    "        while dt_hourEnd < dt_next_hourStart:\n",
    "            l.append({\"sn\" : df_row.sn, \"dt\" : dt_hourEnd, \"statusChange\" : df_row.statusChange, \"dt_next\" : df_row.dt_next, \"dt_pre\" : df_row.dt_pre, \"code_pre\" : df_row.code_pre})\n",
    "            l.append({\"sn\" : df_row.sn, \"dt\" : dt_hourEnd + pd.Timedelta('0 days 00:00:0.11') , \"statusChange\" : df_row.statusChange, \"dt_next\" : df_row.dt_next, \"dt_pre\" : df_row.dt_pre, \"code_pre\" : df_row.code_pre})\n",
    "            dt_hourEnd += pd.Timedelta('0 days 01:00:00')\n",
    "        l.append({\"sn\" : df_row.sn, \"dt\" : df_row.dt_next - pd.Timedelta(2,\"s\"), \"statusChange\" : df_row.statusChange, \"dt_next\" : df_row.dt_next, \"dt_pre\" : df_row.dt_pre, \"code_pre\" : df_row.code_pre})"
   ]
  },
  {
   "cell_type": "code",
   "execution_count": null,
   "metadata": {},
   "outputs": [],
   "source": [
    "df1.apply(insert_rows,axis=1)"
   ]
  },
  {
   "cell_type": "code",
   "execution_count": null,
   "metadata": {},
   "outputs": [],
   "source": [
    "df1 = pd.DataFrame.from_records(l)\n",
    "df1"
   ]
  },
  {
   "cell_type": "code",
   "execution_count": null,
   "metadata": {},
   "outputs": [],
   "source": [
    "df1.drop(\"dt_next\", inplace=True, axis=True)\n",
    "df1.head()"
   ]
  },
  {
   "cell_type": "code",
   "execution_count": null,
   "metadata": {},
   "outputs": [],
   "source": [
    "df2 = df1.copy()\n",
    "df1.index += 1\n",
    "df1.head()"
   ]
  },
  {
   "cell_type": "code",
   "execution_count": null,
   "metadata": {},
   "outputs": [],
   "source": [
    "df2.drop([\"statusChange\", \"dt_pre\", \"code_pre\"], inplace=True, axis=True)\n",
    "df2.head()"
   ]
  },
  {
   "cell_type": "code",
   "execution_count": null,
   "metadata": {},
   "outputs": [],
   "source": [
    "df1 = pd.merge(df1, df2, left_index=True, right_index=True, suffixes=[\"\", \"_next\"])"
   ]
  },
  {
   "cell_type": "code",
   "execution_count": null,
   "metadata": {},
   "outputs": [],
   "source": [
    "df1.head()"
   ]
  },
  {
   "cell_type": "code",
   "execution_count": null,
   "metadata": {},
   "outputs": [],
   "source": [
    "df1 = df1.loc[df1.sn == df1.sn_next, :]\n",
    "df1.drop(\"sn_next\", inplace=True, axis=1)\n",
    "df1.reset_index(drop=True, inplace=True)"
   ]
  },
  {
   "cell_type": "code",
   "execution_count": null,
   "metadata": {},
   "outputs": [],
   "source": [
    "df1.head()"
   ]
  },
  {
   "cell_type": "code",
   "execution_count": null,
   "metadata": {},
   "outputs": [],
   "source": [
    "df1.loc[:,\"periodH\"] = (df1[\"dt_next\"] - df1[\"dt\"]) / pd.Timedelta(1,\"h\")\n",
    "df1.loc[:,\"date\"] = df1[\"dt\"].dt.strftime(\"%Y/%m/%d\")\n",
    "df1.loc[:,\"weekday\"] = df1[\"dt\"].dt.weekday + 1\n",
    "df1.loc[:,\"oClock\"] = df1[\"dt\"].dt.hour"
   ]
  },
  {
   "cell_type": "code",
   "execution_count": null,
   "metadata": {},
   "outputs": [],
   "source": [
    "df1.drop(\"dt_next\", inplace=True, axis=True)\n",
    "df1.head()"
   ]
  },
  {
   "cell_type": "code",
   "execution_count": null,
   "metadata": {},
   "outputs": [],
   "source": [
    "df1.loc[:, \"validTimeDiff\"] = (df1.dt - df1.dt_pre) / pd.Timedelta(1,\"s\")\n",
    "df1.loc[:, \"validTimeDiff\"] = df1.validTimeDiff.map(lambda x: \"y\" if x < 2 else \"n\")"
   ]
  },
  {
   "cell_type": "code",
   "execution_count": null,
   "metadata": {},
   "outputs": [],
   "source": [
    "df1.head()"
   ]
  },
  {
   "cell_type": "code",
   "execution_count": null,
   "metadata": {},
   "outputs": [],
   "source": [
    "def status_extract(strs):\n",
    "    status = strs.split(\" to \")[1]\n",
    "    return status[0:-1]"
   ]
  },
  {
   "cell_type": "code",
   "execution_count": null,
   "metadata": {},
   "outputs": [],
   "source": [
    "df1.loc[:, \"status\"] = df1.statusChange.map(status_extract)\n",
    "df1.head()"
   ]
  },
  {
   "cell_type": "code",
   "execution_count": null,
   "metadata": {},
   "outputs": [],
   "source": [
    "df1.to_csv(\"status_ecg.csv\")"
   ]
  }
 ],
 "metadata": {
  "kernelspec": {
   "display_name": "Python 3.11.0 64-bit",
   "language": "python",
   "name": "python3"
  },
  "language_info": {
   "codemirror_mode": {
    "name": "ipython",
    "version": 3
   },
   "file_extension": ".py",
   "mimetype": "text/x-python",
   "name": "python",
   "nbconvert_exporter": "python",
   "pygments_lexer": "ipython3",
   "version": "3.11.0"
  },
  "orig_nbformat": 4,
  "vscode": {
   "interpreter": {
    "hash": "ae05f2188e8554ca3c8adaf19553bcb72701c4e1824c3aad74ec27c2c6c9e72c"
   }
  }
 },
 "nbformat": 4,
 "nbformat_minor": 2
}
