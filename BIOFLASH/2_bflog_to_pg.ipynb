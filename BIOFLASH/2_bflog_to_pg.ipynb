{
 "cells": [
  {
   "cell_type": "code",
   "execution_count": null,
   "metadata": {},
   "outputs": [],
   "source": [
    "import pandas as pd\n",
    "import ast\n",
    "import re\n",
    "import os\n",
    "import psycopg2 as pg"
   ]
  },
  {
   "cell_type": "code",
   "execution_count": null,
   "metadata": {},
   "outputs": [],
   "source": [
    "def clean_param(param):\n",
    "    after_clean = re.sub(r\"\\d,22\\sserialization::archive\\s9\\s\\d\\s\", \"\", param)\n",
    "    after_clean = re.sub(r\"\\\\\", \"/\", after_clean)\n",
    "    if re.search(r\"\\d{1,2}\\s\", after_clean) == None:\n",
    "        return after_clean\n",
    "    else:\n",
    "        return re.sub(r\"\\d{1,2}\\s\", \"\", after_clean)\n",
    "\n",
    "\n",
    "def param_to_list(param):\n",
    "    return ast.literal_eval(\"[\" + param + \"]\")\n",
    "\n",
    "\n",
    "def to_hex(df):\n",
    "    if df.hexLocation != -1:\n",
    "        hex_index = int(df.hexLocation)\n",
    "        df.Parameters[hex_index] = \"0x\" + str(\n",
    "            hex(int(df.Parameters[hex_index]))[2:].zfill(2)\n",
    "        )\n",
    "    return df\n",
    "\n",
    "\n",
    "def file_filter(filedir, keyword):\n",
    "    allfilelist = os.listdir(filedir)\n",
    "    targetfiles = [file for file in allfilelist if keyword in file]\n",
    "    return targetfiles\n",
    "\n",
    "\n",
    "def strlist(slist):\n",
    "    return \"||\".join(slist)"
   ]
  },
  {
   "cell_type": "code",
   "execution_count": null,
   "metadata": {},
   "outputs": [],
   "source": [
    "code_type = {\"69\": \"Error\", \"73\": \"Info\", \"87\": \"Warning\"}\n",
    "col_type = {\"Type\": str, \"DateTime\": int, \"ResourceId\": int, \"Parameters\":str}\n",
    "work_path = r\"D:\\DataWork\\AllWerfenChinaTop\\BIOFLASHlog\\Data\"\n",
    "selected_columns = [\"Type\", \"DateTime\", \"ResourceId\", \"Parameters\"]"
   ]
  },
  {
   "cell_type": "code",
   "execution_count": null,
   "metadata": {},
   "outputs": [],
   "source": [
    "df_logs = pd.DataFrame({\"filename\" : file_filter((work_path + \"\\\\InstrumentLog\"), \".txt\")})"
   ]
  },
  {
   "cell_type": "code",
   "execution_count": null,
   "metadata": {},
   "outputs": [],
   "source": [
    "df_logs[\"sn\"] = df_logs[\"filename\"].str.split(\"_\").str[1]\n",
    "df_logs[\"date\"] = df_logs[\"filename\"].str.split(\"_\").str[5]"
   ]
  },
  {
   "cell_type": "code",
   "execution_count": null,
   "metadata": {},
   "outputs": [],
   "source": [
    "df_logs.sort_values([\"sn\", \"date\"], inplace=True)"
   ]
  },
  {
   "cell_type": "code",
   "execution_count": null,
   "metadata": {},
   "outputs": [],
   "source": [
    "dferror = pd.read_excel((work_path + \"\\\\BF_error_class.xlsx\"), sheet_name=\"ErrorList\", usecols=[\"errorID\", \"hexLocation\"])"
   ]
  },
  {
   "cell_type": "code",
   "execution_count": null,
   "metadata": {},
   "outputs": [],
   "source": [
    "conn = pg.connect(dbname= \"mydb\", user= \"sirius\", password= \"biicf\", host= \"localhost\")\n",
    "cur = conn.cursor()"
   ]
  },
  {
   "cell_type": "code",
   "execution_count": null,
   "metadata": {},
   "outputs": [],
   "source": [
    "log_nums = len(df_logs)\n",
    "for id, row in df_logs.iterrows():\n",
    "    print(f\"{log_nums}: {row[\"filename\"]}\")\n",
    "    log_nums -= 1\n",
    "    df = pd.read_csv((work_path + \"\\\\InstrumentLog\\\\\" + row[\"filename\"]), sep=\"\\t\", usecols=selected_columns, dtype=col_type)\n",
    "    if df.empty:\n",
    "        continue\n",
    "    df = df.loc[df.Type.isin([\"87\", \"69\", \"73\"])]\n",
    "    df[\"DateTime\"] = pd.to_datetime(df.DateTime + 28800, unit=\"s\")\n",
    "    start_time = df.iloc[0,1]\n",
    "    first_line = df.iloc[[0]]\n",
    "    last_line = df.iloc[[-1]]\n",
    "    df = df.loc[df.Type.isin([\"87\", \"69\"])]\n",
    "    df = pd.merge(df, dferror, how=\"left\", left_on=\"ResourceId\", right_on=\"errorID\")\n",
    "    df.dropna(subset={\"errorID\"}, axis=0, inplace=True)\n",
    "    df[\"Parameters\"] = df.Parameters.fillna(\"\")\n",
    "    df[\"Parameters\"] = df.Parameters.map(clean_param)\n",
    "    df[\"Parameters\"] = df.Parameters.map(param_to_list)\n",
    "    df = df.apply(to_hex, axis=1)\n",
    "    df[\"Parameters\"] = df.Parameters.map(strlist)\n",
    "    df.drop([\"errorID\", \"hexLocation\"], axis=1, inplace=True)\n",
    "    df = pd.concat([first_line, df, last_line])\n",
    "    df[\"Type\"] = df.Type.map(code_type)\n",
    "    df[\"sn\"] = row[\"sn\"]\n",
    "    df.drop_duplicates(subset=[\"DateTime\", \"ResourceId\", \"sn\"], inplace=True, keep=\"first\")\n",
    "\n",
    "    cur.execute(\"SELECT MAX(datetime) FROM service.biofls_applog WHERE bf_sn = %s\", (row[\"sn\"],))\n",
    "    last_time_db = cur.fetchone()[0]\n",
    "\n",
    "    if not bool(last_time_db):\n",
    "        for idx, line in df.iterrows():\n",
    "            cur.execute(\"INSERT INTO service.biofls_applog \\\n",
    "                        (bf_sn, type, datetime, error_code, param) VALUES (%s, %s, %s, %s, %s)\", \n",
    "                        (line[\"sn\"], line[\"Type\"], line[\"DateTime\"], line[\"ResourceId\"], line[\"Parameters\"])\n",
    "            )\n",
    "    elif start_time > last_time_db + pd.Timedelta(10, \"d\"):\n",
    "        cur.execute(\"DELETE FROM service.biofls_applog WHERE bf_sn = %s\", (row[\"sn\"],))\n",
    "        for idx, line in df.iterrows():\n",
    "            cur.execute(\"INSERT INTO service.biofls_applog \\\n",
    "                        (bf_sn, type, datetime, error_code, param) VALUES (%s, %s, %s, %s, %s)\", \n",
    "                        (line[\"sn\"], line[\"Type\"], line[\"DateTime\"], line[\"ResourceId\"], line[\"Parameters\"])\n",
    "            )\n",
    "    else:\n",
    "        df = df[df[\"DateTime\"] > last_time_db]\n",
    "        for idx, line in df.iterrows():\n",
    "            cur.execute(\"INSERT INTO service.biofls_applog \\\n",
    "                        (bf_sn, type, datetime, error_code, param) VALUES (%s, %s, %s, %s, %s)\", \n",
    "                        (line[\"sn\"], line[\"Type\"], line[\"DateTime\"], line[\"ResourceId\"], line[\"Parameters\"])\n",
    "            )"
   ]
  },
  {
   "cell_type": "code",
   "execution_count": null,
   "metadata": {},
   "outputs": [],
   "source": [
    "conn.commit()"
   ]
  },
  {
   "cell_type": "code",
   "execution_count": null,
   "metadata": {},
   "outputs": [],
   "source": [
    "cur.close()\n",
    "conn.close()"
   ]
  }
 ],
 "metadata": {
  "kernelspec": {
   "display_name": "Python 3",
   "language": "python",
   "name": "python3"
  },
  "language_info": {
   "codemirror_mode": {
    "name": "ipython",
    "version": 3
   },
   "file_extension": ".py",
   "mimetype": "text/x-python",
   "name": "python",
   "nbconvert_exporter": "python",
   "pygments_lexer": "ipython3",
   "version": "3.12.2"
  }
 },
 "nbformat": 4,
 "nbformat_minor": 2
}
