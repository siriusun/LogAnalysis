{
 "cells": [
  {
   "cell_type": "code",
   "execution_count": null,
   "metadata": {},
   "outputs": [],
   "source": [
    "import pandas as pd\n",
    "import psycopg2 as pg\n",
    "import os"
   ]
  },
  {
   "cell_type": "code",
   "execution_count": null,
   "metadata": {},
   "outputs": [],
   "source": [
    "failed_log = []  # 文件行数空字典"
   ]
  },
  {
   "cell_type": "code",
   "execution_count": null,
   "metadata": {},
   "outputs": [],
   "source": [
    "colfilter = [\n",
    "    \"sCode\", \"eType\", \"dateTime\", \"funcArea\", \"sDescription\", \"sFilename\",\n",
    "    \"nSubCode\", \"eCPU\"\n",
    "]"
   ]
  },
  {
   "cell_type": "code",
   "execution_count": null,
   "metadata": {},
   "outputs": [],
   "source": [
    "replace_dic = {\n",
    "    \"开机\": \"Power up\",\n",
    "    \"初始化\": \"Initializing\",\n",
    "    \"维护\": \"Maintenance\",\n",
    "    \"错误\": \"Error\",\n",
    "    \"紧急停止\": \"Emergency stop\",\n",
    "    \"忙\": \"Busy\",\n",
    "    \"诊断\": \"Diagnostics\",\n",
    "    \"准备\": \"Ready\",\n",
    "    \"受控停机\": \"Controlled stop\",\n",
    "    \"未连接\": \"Not connected\",\n",
    "    \"温度调整\": \"Adjusting thermal\",\n",
    "    \"分析仪状态从\": \"Analyzer Status changed from\",\n",
    "    \"变为\": \"to\",\n",
    "    \"样品\": \"SAMPLE\",\n",
    "    \"试剂1\": \"REAGENT 1\",\n",
    "    \"试剂2\": \"REAGENT 2\"\n",
    "}"
   ]
  },
  {
   "cell_type": "code",
   "execution_count": null,
   "metadata": {},
   "outputs": [],
   "source": [
    "Filter_List_sDescription = [\n",
    "    \"Analyzer Status changed from Busy to Emergency stop.\",\n",
    "    \"Analyzer Status changed from Busy to Controlled stop.\",\n",
    "    \"Analyzer Status changed from Controlled stop to Error.\",\n",
    "    \"Analyzer Status changed from Controlled stop to Emergency stop.\",\n",
    "    \"Analyzer Status changed from Initializing to Emergency stop.\",\n",
    "    \"Analyzer Status changed from Initializing to Error.\",\n",
    "    \"Analyzer Status changed from Maintenance to Emergency stop.\",\n",
    "    \"Analyzer Status changed from Maintenance to Error.\",\n",
    "    \"timeFlag\"\n",
    "]"
   ]
  },
  {
   "cell_type": "code",
   "execution_count": null,
   "metadata": {},
   "outputs": [],
   "source": [
    "Unselect_List_sCode = [\n",
    "    \"'03218\", \"'03004\", \"'02083\", \"'02025\", \"'03215\", \"'03188\", \"'02055\",\n",
    "    \"'03184\", \"'01285\", \"'01336\", \"'02077\", \"'03007\", \"'03014\", \"'00056\",\n",
    "    \"'03013\", \"'03084\", \"'03016\", \"'03085\", \"'03211\", \"'03020\", \"'03019\",\n",
    "    \"'03005\", \"'03011\", \"'03018\", \"'03015\", \"'03017\", \"'03009\", \"'03010\",\n",
    "    \"'03021\"\n",
    "]"
   ]
  },
  {
   "cell_type": "code",
   "execution_count": null,
   "metadata": {},
   "outputs": [],
   "source": [
    "Filter_List_funcArea = [\"Analyzer\", \"Materials\"]\n",
    "Filter_List_eType = [\"ERROR\", \"INFORMATION\"]"
   ]
  },
  {
   "cell_type": "code",
   "execution_count": null,
   "metadata": {},
   "outputs": [],
   "source": [
    "def file_filter(filedir, keyword):\n",
    "    allfilelist = os.listdir(filedir)\n",
    "    targetfiles = [file for file in allfilelist if keyword in file]\n",
    "    return targetfiles"
   ]
  },
  {
   "cell_type": "code",
   "execution_count": null,
   "metadata": {},
   "outputs": [],
   "source": [
    "def replace_desp(desp):\n",
    "    if \"分析仪状态从\" not in desp:\n",
    "        return desp\n",
    "    for (cn, en) in replace_dic.items():\n",
    "        desp = desp.replace(cn, en)\n",
    "    return desp"
   ]
  },
  {
   "cell_type": "code",
   "execution_count": null,
   "metadata": {},
   "outputs": [],
   "source": [
    "# log_start_time, log_last_time = 0, 0"
   ]
  },
  {
   "cell_type": "code",
   "execution_count": null,
   "metadata": {},
   "outputs": [],
   "source": [
    "def read_toplog(logfullpath, filter_col, code):\n",
    "    print(logfullpath)\n",
    "    df_toplog = pd.read_csv(logfullpath,\n",
    "                        sep=\"\\t\",\n",
    "                        encoding=code,\n",
    "                        usecols=filter_col,\n",
    "                        parse_dates=[\"dateTime\",])\n",
    "    return df_toplog"
   ]
  },
  {
   "cell_type": "code",
   "execution_count": null,
   "metadata": {},
   "outputs": [],
   "source": [
    "def logaddsq(tlog0):  # log_days: log reserve days; 0 means all.\n",
    "    tlog0 = tlog0.dropna(\n",
    "        subset=[\"sCode\", \"dateTime\", \"eType\", \"funcArea\", \"sDescription\"])\n",
    "    first_line = tlog0.iloc[[0]]\n",
    "    last_line = tlog0.iloc[[-1]]\n",
    "    # 筛选掉无用数据\n",
    "    tlog0 = tlog0[(tlog0.funcArea.isin(Filter_List_funcArea))\n",
    "                  & (tlog0.eType.isin(Filter_List_eType))]\n",
    "    tlog0[\"sDescription\"] = tlog0[\"sDescription\"].map(replace_desp)\n",
    "    tlog0 = tlog0[(tlog0.eType == \"ERROR\")\n",
    "                  | (tlog0.sDescription.isin(Filter_List_sDescription))]\n",
    "    tlog0 = tlog0[~tlog0.sCode.isin(Unselect_List_sCode)]\n",
    "    tlog0.reset_index(drop=True, inplace=True)\n",
    "    tlog1 = tlog0.copy()\n",
    "    tlog0.drop([\"eType\", \"funcArea\", \"sFilename\", \"nSubCode\", \"eCPU\"],\n",
    "               axis=1,\n",
    "               inplace=True)\n",
    "    tlog1.index = tlog1.index + 1\n",
    "    logwithsq = pd.merge(tlog1, tlog0, left_index=True,\n",
    "                         right_index=True, suffixes=(\"\", \"SQ\"))\n",
    "    if logwithsq.empty:\n",
    "        return logwithsq\n",
    "    else:\n",
    "        return pd.concat([first_line, logwithsq, last_line])"
   ]
  },
  {
   "cell_type": "code",
   "execution_count": null,
   "metadata": {},
   "outputs": [],
   "source": [
    "work_path = \"D:/DataWork/AllWerfenChinaTop/posgres_source/topsta_generalLog/Data/GeneralLogs/\""
   ]
  },
  {
   "cell_type": "code",
   "execution_count": null,
   "metadata": {},
   "outputs": [],
   "source": [
    "top_list = os.listdir(work_path)"
   ]
  },
  {
   "cell_type": "code",
   "execution_count": null,
   "metadata": {},
   "outputs": [],
   "source": [
    "df_toplist= pd.DataFrame(top_list)"
   ]
  },
  {
   "cell_type": "code",
   "execution_count": null,
   "metadata": {},
   "outputs": [],
   "source": [
    "df_toplist[[\"serial_num\",\"dt\"]] = df_toplist[0].str.split(\"_\", expand=True)"
   ]
  },
  {
   "cell_type": "code",
   "execution_count": null,
   "metadata": {},
   "outputs": [],
   "source": [
    "df_toplist.rename(columns={0 : \"filename\"}, inplace=True)"
   ]
  },
  {
   "cell_type": "code",
   "execution_count": null,
   "metadata": {},
   "outputs": [],
   "source": [
    "df_toplist.sort_values([\"serial_num\", \"dt\"], inplace=True)"
   ]
  },
  {
   "cell_type": "code",
   "execution_count": null,
   "metadata": {},
   "outputs": [],
   "source": [
    "conn = pg.connect(dbname= \"mydb\", user= \"sirius\", password= \"biicf\", host= \"localhost\")\n",
    "cur = conn.cursor()"
   ]
  },
  {
   "cell_type": "code",
   "execution_count": null,
   "metadata": {},
   "outputs": [],
   "source": [
    "for id, row in df_toplist.iterrows():\n",
    "    df_raw = read_toplog((work_path + row[\"filename\"]), colfilter, \"utf_16_le\")\n",
    "    if df_raw.dateTime.dtype != 'datetime64[ns]':\n",
    "        print(\"************\" + row[\"filename\"] + \"**************\")\n",
    "        failed_log.append(row[\"filename\"])\n",
    "        continue\n",
    "    log_start_time = pd.to_datetime(df_raw.iloc[0, 2])\n",
    "    log_end_time = pd.to_datetime(df_raw.iloc[-1, 2])\n",
    "    cur.execute(\"SELECT MAX(datetime) FROM service.genlog_standalone WHERE topsn = %s\", (row[\"serial_num\"],))\n",
    "    logtime = cur.fetchone()\n",
    "    if logtime[0] == None:\n",
    "        dfsq = logaddsq(df_raw)\n",
    "        if dfsq.empty:\n",
    "            continue\n",
    "        dfsq[\"serial_num\"] = row[\"serial_num\"]\n",
    "        for i, rw in dfsq.iterrows():\n",
    "            cur.execute(\n",
    "                    \"INSERT INTO service.genlog_standalone \\\n",
    "                    (topsn, scode, etype, datetime, funcarea, sdescription, sfilename, nsubcode, ecpu, scodesq, sdescriptionsq) \\\n",
    "                    VALUES (%s, %s, %s, %s, %s, %s, %s, %s, %s, %s, %s)\",\n",
    "                    (\n",
    "                        rw[\"serial_num\"], rw['sCode'], rw['eType'], rw['dateTime'], rw['funcArea'], rw['sDescription'], \n",
    "                        rw['sFilename'], rw['nSubCode'], rw['eCPU'], rw['sCodeSQ'], rw['sDescriptionSQ']\n",
    "                    ) \n",
    "            )\n",
    "    elif log_start_time > logtime[0] + pd.Timedelta(5, \"d\"):\n",
    "        dfsq = logaddsq(df_raw)\n",
    "        if dfsq.empty:\n",
    "            continue\n",
    "        dfsq[\"serial_num\"] = row[\"serial_num\"]\n",
    "        cur.execute(\"DELETE FROM service.genlog_standalone WHERE topsn = %s\", (row[\"serial_num\"],))\n",
    "        for i, rw in dfsq.iterrows():\n",
    "            cur.execute(\n",
    "                    \"INSERT INTO service.genlog_standalone \\\n",
    "                    (topsn, scode, etype, datetime, funcarea, sdescription, sfilename, nsubcode, ecpu, scodesq, sdescriptionsq) \\\n",
    "                    VALUES (%s, %s, %s, %s, %s, %s, %s, %s, %s, %s, %s)\",\n",
    "                    (\n",
    "                        rw[\"serial_num\"], rw['sCode'], rw['eType'], rw['dateTime'], rw['funcArea'], rw['sDescription'], \n",
    "                        rw['sFilename'], rw['nSubCode'], rw['eCPU'], rw['sCodeSQ'], rw['sDescriptionSQ']\n",
    "                    ) \n",
    "            )\n",
    "    else:\n",
    "        dfsq = logaddsq(df_raw)\n",
    "        dfsq[\"serial_num\"] = row[\"serial_num\"]\n",
    "        dfsq = dfsq[dfsq[\"dateTime\"] > logtime[0]]\n",
    "        if dfsq.empty:\n",
    "            continue\n",
    "        for i, rw in dfsq.iterrows():\n",
    "            cur.execute(\n",
    "                    \"INSERT INTO service.genlog_standalone \\\n",
    "                    (topsn, scode, etype, datetime, funcarea, sdescription, sfilename, nsubcode, ecpu, scodesq, sdescriptionsq) \\\n",
    "                    VALUES (%s, %s, %s, %s, %s, %s, %s, %s, %s, %s, %s)\",\n",
    "                    (\n",
    "                        rw[\"serial_num\"], rw['sCode'], rw['eType'], rw['dateTime'], rw['funcArea'], rw['sDescription'], \n",
    "                        rw['sFilename'], rw['nSubCode'], rw['eCPU'], rw['sCodeSQ'], rw['sDescriptionSQ']\n",
    "                    ) \n",
    "            )"
   ]
  },
  {
   "cell_type": "code",
   "execution_count": null,
   "metadata": {},
   "outputs": [],
   "source": [
    "conn.commit()"
   ]
  },
  {
   "cell_type": "code",
   "execution_count": null,
   "metadata": {},
   "outputs": [],
   "source": [
    "cur.close()\n",
    "conn.close()"
   ]
  },
  {
   "cell_type": "code",
   "execution_count": null,
   "metadata": {},
   "outputs": [],
   "source": [
    "pd.Series(failed_log).to_csv(r\"D:\\DataWork\\AllWerfenChinaTop\\posgres_source\\topsta_generalLog\\failed.csv\")"
   ]
  }
 ],
 "metadata": {
  "kernelspec": {
   "display_name": "Python 3",
   "language": "python",
   "name": "python3"
  },
  "language_info": {
   "codemirror_mode": {
    "name": "ipython",
    "version": 3
   },
   "file_extension": ".py",
   "mimetype": "text/x-python",
   "name": "python",
   "nbconvert_exporter": "python",
   "pygments_lexer": "ipython3",
   "version": "3.12.2"
  }
 },
 "nbformat": 4,
 "nbformat_minor": 2
}
