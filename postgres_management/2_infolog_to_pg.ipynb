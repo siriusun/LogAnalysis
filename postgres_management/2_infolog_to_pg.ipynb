{
 "cells": [
  {
   "cell_type": "code",
   "execution_count": null,
   "metadata": {},
   "outputs": [],
   "source": [
    "import pandas as pd\n",
    "import os\n",
    "import psycopg2"
   ]
  },
  {
   "cell_type": "code",
   "execution_count": null,
   "metadata": {},
   "outputs": [],
   "source": [
    "work_path = r\"D:\\DataWork\\AllWerfenChinaTop\\posgres_source\\topsta_generalLog\\Data\"\n",
    "path_testvol = work_path + \"\\\\CountersForAllTest\\\\\"\n",
    "path_ostask = work_path + \"\\\\osTask\\\\\"\n",
    "path_swversion= work_path + \"\\\\SoftwareVersions\\\\\""
   ]
  },
  {
   "cell_type": "code",
   "execution_count": null,
   "metadata": {},
   "outputs": [],
   "source": [
    "conn = psycopg2.connect(dbname= \"mydb\", user= \"sirius\", password= \"biicf\", host= \"localhost\")\n",
    "cur = conn.cursor()"
   ]
  },
  {
   "cell_type": "code",
   "execution_count": null,
   "metadata": {},
   "outputs": [],
   "source": [
    "# TestVol\n",
    "current_path = path_testvol\n",
    "files = os.listdir(current_path)\n",
    "for f in files:\n",
    "    basename = f.split(\".\")[0]\n",
    "    f_abspath = current_path  + f\n",
    "    print(f_abspath)\n",
    "    df = pd.read_csv(f_abspath, sep=\"\\t\", encoding=\"utf_16_le\")\n",
    "    if df.empty:\n",
    "        continue\n",
    "    df[\"topsn\"], df[\"date\"] = basename.split(\"_\")\n",
    "    for id, rw in df.iterrows():\n",
    "        cur.execute(\"INSERT INTO service.topsta_testvl \\\n",
    "                    (topsn, date, test_name, volume) \\\n",
    "                    VALUES (%s, %s, %s, %s)\",\n",
    "                    ( rw[\"topsn\"], rw[\"date\"], rw[\"testCode\"], rw[\"total\"] ) \n",
    "        )"
   ]
  },
  {
   "cell_type": "code",
   "execution_count": null,
   "metadata": {},
   "outputs": [],
   "source": [
    "# os task\n",
    "current_path = path_ostask\n",
    "files = os.listdir(current_path)\n",
    "for f in files:\n",
    "    basename = f.split(\".\")[0]\n",
    "    f_abspath = current_path + f\n",
    "    print(f_abspath)\n",
    "    try:\n",
    "        with open(f_abspath, \"r\") as f:\n",
    "            first_line = f.readline().strip()\n",
    "            skip_num = 0 if first_line else 1\n",
    "        df = pd.read_csv(f_abspath, sep=\",\", encoding=\"utf_8\", skiprows= skip_num)\n",
    "    except:\n",
    "        continue\n",
    "    if df.empty:\n",
    "        continue\n",
    "    cur.execute(\"DELETE FROM service.topsta_ostask WHERE topsn = %s\", (basename.split(\"_\")[0],))\n",
    "    df[\"topsn\"], df[\"date\"] = basename.split(\"_\")\n",
    "    for id, rw in df.iterrows():\n",
    "        cur.execute(\"INSERT INTO service.topsta_ostask \\\n",
    "                    (topsn, date, program, pid, session_name, session_num, memory) \\\n",
    "                    VALUES (%s, %s, %s, %s, %s, %s, %s)\",\n",
    "                    ( rw[\"topsn\"], rw[\"date\"], rw[\"Image Name\"], rw[\"PID\"], rw[\"Session Name\"], rw[\"Session#\"], rw[\"Mem Usage\"] ) \n",
    "        )"
   ]
  },
  {
   "cell_type": "code",
   "execution_count": null,
   "metadata": {},
   "outputs": [],
   "source": [
    "# software version\n",
    "current_path = path_swversion\n",
    "files = os.listdir(current_path)\n",
    "for f in files:\n",
    "    basename = f.split(\".\")[0]\n",
    "    f_abspath = current_path + f\n",
    "    print(f_abspath)\n",
    "    df = pd.read_csv(f_abspath, sep=\"\\t\", encoding=\"utf_16_le\", skiprows= 0)\n",
    "    if df.empty:\n",
    "        continue\n",
    "    cur.execute(\"DELETE FROM service.topsta_swvsn WHERE topsn = %s\", (basename.split(\"_\")[0],))\n",
    "    df[\"topsn\"], df[\"date\"] = basename.split(\"_\")\n",
    "    for id, rw in df.iterrows():\n",
    "        cur.execute(\"INSERT INTO service.topsta_swvsn \\\n",
    "                    (topsn, date, index, main_version, creation, description, install_value, expected_value) \\\n",
    "                    VALUES (%s, %s, %s, %s, %s, %s, %s, %s)\",\n",
    "                    ( rw[\"topsn\"], rw[\"date\"], rw[\"id\"], rw[\"mainSystemVersion\"], rw[\"creation\"], rw[\"description\"], rw[\"installedValue\"], rw[\"expectedValue\"] ) \n",
    "        )"
   ]
  },
  {
   "cell_type": "code",
   "execution_count": null,
   "metadata": {},
   "outputs": [],
   "source": [
    "conn.commit()"
   ]
  },
  {
   "cell_type": "code",
   "execution_count": null,
   "metadata": {},
   "outputs": [],
   "source": [
    "cur.close()\n",
    "conn.close()"
   ]
  }
 ],
 "metadata": {
  "kernelspec": {
   "display_name": "Python 3",
   "language": "python",
   "name": "python3"
  },
  "language_info": {
   "codemirror_mode": {
    "name": "ipython",
    "version": 3
   },
   "file_extension": ".py",
   "mimetype": "text/x-python",
   "name": "python",
   "nbconvert_exporter": "python",
   "pygments_lexer": "ipython3",
   "version": "3.12.2"
  }
 },
 "nbformat": 4,
 "nbformat_minor": 2
}
